{
 "cells": [
  {
   "cell_type": "markdown",
   "metadata": {},
   "source": [
    "# Audio Coding"
   ]
  },
  {
   "cell_type": "markdown",
   "metadata": {},
   "source": [
    "```\n",
    "PCM   +---------+        +---------+ PCM\n",
    "----->| Encoder |------->| Decoder |----->\n",
    "audio +---------+ stream +---------+ audio'\n",
    "\n",
    "              audio != audio'\n",
    "                (usually)\n",
    "```"
   ]
  },
  {
   "cell_type": "markdown",
   "metadata": {},
   "source": [
    "## Typical encoder steps\n",
    "\n",
    "1. **Overlaped subband analysis** (usually with [MDCT](http://en.wikipedia.org/wiki/Modified_discrete_cosine_transform} (Modified\n",
    "   Discrete Cosine Transform)). Goes from the temporal to a frequency\n",
    "   domain.\n",
    "  \n",
    "2. **Quantization**. Basically, removes pure signals of low amplitude\n",
    "   but taking also into account the SAM (pSycho Acoustic Model) of the\n",
    "   HAS (Human Auditory System). Noise use to be of low power!\n",
    "   \n",
    "3. [**Entropy coding**](https://github.com/vicente-gonzalez-ruiz/teaching/blob/master/coding/text/text_coding.ipynb)."
   ]
  },
  {
   "cell_type": "markdown",
   "metadata": {},
   "source": [
    "## Lossy coding\n",
    "\n",
    "* The limitations of human perception are incorporated into the compression process through the use of psychoacoustic models. Some of these limitations are physiological, based on the machinery of hearing. Others are psychological, based on how our brain processes auditory stimuli.\n"
   ]
  },
  {
   "cell_type": "markdown",
   "metadata": {},
   "source": [
    "## Overlaped processing\n",
    "\n",
    "```\n",
    "0              N-1            2N-1            3N-1\n",
    "+---------------+---------------+---------------+ s[n]\n",
    "<--------Transform Step--------->\n",
    "                <---------Transform Step-------->\n",
    "```\n",
    "\n",
    "* Each transform step inputs $2N$ samples and outputs $N$ MDCT\n",
    "  coeficients.\n",
    "  \n",
    "* $N$ can vary depending on the characteristics of the sound. For\n",
    "  \\emph{complex} sounds without clear armonics (such as a plosive sound),\n",
    "  shortened windows improve the performance. For \\emph{simple} sounds\n",
    "  (such as a music instrument), large windows are better.\n",
    "  "
   ]
  }
 ],
 "metadata": {
  "kernelspec": {
   "display_name": "Python 3",
   "language": "python",
   "name": "python3"
  },
  "language_info": {
   "codemirror_mode": {
    "name": "ipython",
    "version": 3
   },
   "file_extension": ".py",
   "mimetype": "text/x-python",
   "name": "python",
   "nbconvert_exporter": "python",
   "pygments_lexer": "ipython3",
   "version": "3.6.4"
  }
 },
 "nbformat": 4,
 "nbformat_minor": 2
}
