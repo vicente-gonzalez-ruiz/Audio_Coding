{
 "cells": [
  {
   "cell_type": "markdown",
   "metadata": {},
   "source": [
    "# Audio Coding"
   ]
  },
  {
   "cell_type": "markdown",
   "metadata": {},
   "source": [
    "```\n",
    "PCM   +---------+        +---------+ PCM\n",
    "----->| Encoder |------->| Decoder |----->\n",
    "audio +---------+ stream +---------+ audio'\n",
    "\n",
    "              audio != audio'\n",
    "                (usually)\n",
    "```"
   ]
  },
  {
   "cell_type": "markdown",
   "metadata": {},
   "source": [
    "## Contents\n",
    "\n",
    "1. [The sound](The_Sound/the_sound.ipynb).\n",
    "2. [The human auditory system](The_Human_Auditory_System/the_human_auditory_system.ipynb).\n",
    "3. [Human sound perception](Human_Sound_Perception/human_sound_perception.ipynb).\n",
    "4. [Differential audio coding](differential_audio_encoding/differential_audio_encoding.ipynb).\n",
    "5. [Speech coding](speech_coding/speech_coding.ipynb).\n",
    "6. [MPEG Audio Layer 3 (MP3)](MP3/MP3.ipynb).\n",
    "7. [MPEG Advanced Audio Coding (AAC)](AAC/AAC.ipynb).\n",
    "8. [Vorbis](Vorbis/Vorbis.ipynb).\n",
    "9. [Dolby Digital (AC3)](Dolby_Digital_AC3/AC3.ipynb).\n",
    "10. [DTS](DTS/DTS.ipynb)."
   ]
  }
 ],
 "metadata": {
  "kernelspec": {
   "display_name": "Python 3",
   "language": "python",
   "name": "python3"
  },
  "language_info": {
   "codemirror_mode": {
    "name": "ipython",
    "version": 3
   },
   "file_extension": ".py",
   "mimetype": "text/x-python",
   "name": "python",
   "nbconvert_exporter": "python",
   "pygments_lexer": "ipython3",
   "version": "3.6.3"
  }
 },
 "nbformat": 4,
 "nbformat_minor": 2
}
